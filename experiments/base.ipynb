{
 "cells": [
  {
   "cell_type": "markdown",
   "id": "8d67f4c3",
   "metadata": {},
   "source": [
    "## Query and edit Database"
   ]
  },
  {
   "cell_type": "code",
   "execution_count": null,
   "id": "5fa4f838",
   "metadata": {},
   "outputs": [
    {
     "name": "stdout",
     "output_type": "stream",
     "text": [
      "Accepted\n"
     ]
    }
   ],
   "source": [
    "import requests\n",
    "import json\n",
    "data = {\n",
    "    \"items\": [\n",
    "        \"https://www.linkedin.com/in/jude-samuel-3984384/\", \n",
    "        \"https://www.linkedin.com/in/zain-n-112a361a8/\"\n",
    "        ]\n",
    "}\n",
    "endpoint = \"https://hook.us1.make.com/4e9915dpiack58vd7mqc5rfv2y8ahjsw\"\n",
    "attempt = requests.post(url = endpoint, headers={\"Content-Type\": \"application/json\"}, data=json.dumps(data))\n",
    "\n",
    "print(attempt.text)"
   ]
  },
  {
   "cell_type": "markdown",
   "id": "c7e0abc5",
   "metadata": {},
   "source": [
    "### Class"
   ]
  },
  {
   "cell_type": "code",
   "execution_count": 4,
   "id": "c6e746c8",
   "metadata": {},
   "outputs": [],
   "source": [
    "import os\n",
    "from dotenv import load_dotenv\n",
    "from pymongo.mongo_client import MongoClient\n",
    "from pymongo.server_api import ServerApi\n",
    "\n",
    "class MongoDB:\n",
    "    \"\"\"\n",
    "    Connection to MongoDB Database\n",
    "    \"\"\"\n",
    "    def __init__(self): # initialise connection to DB\n",
    "        load_dotenv()\n",
    "        uri = os.getenv(\"MONGODBURI\")\n",
    "        self.uri = uri\n",
    "        # Create a new client and connect to the server\n",
    "        self.client = MongoClient(uri, server_api=ServerApi('1'))\n",
    "\n",
    "        # Send a ping to confirm a successful connection\n",
    "        try:\n",
    "            self.client.admin.command('ping')\n",
    "            print(\"Pinged your deployment. You successfully connected to MongoDB!\")\n",
    "\n",
    "        except Exception as e:\n",
    "            print(e)\n",
    "        \n",
    "        \n",
    "        self.db = self.client.get_database(\"Contacts\")\n",
    "        self.collection = self.db.get_collection(\"URLs\")\n",
    "    \n",
    "\n",
    "    def close(self):\n",
    "        if self.client:\n",
    "            self.client.close()\n",
    "            print(\"MongoDB Connection closed\")\n",
    "\n",
    "    def search(self, key, value): # Search for key-value pair\n",
    "\n",
    "        client = MongoClient(self.uri)\n",
    "        try:\n",
    "            query = { f\"{key}\": f\"{value}\" }\n",
    "            movie = self.collection.find_one(query)\n",
    "            return movie\n",
    "\n",
    "        except Exception as e:\n",
    "            raise Exception(\"Unable to find the document due to the following error: \", e)\n",
    "\n",
    "    def add(self, record: dict): # Add dictionary to database\n",
    "        try:\n",
    "            self.db.URLs.insert_one(record)\n",
    "            return True\n",
    "        except Exception as e:\n",
    "            raise Exception(\"Unable to add document due to the following error: \", e)\n",
    "\n",
    "    def edit(self, sort: dict, replacement: dict): # Replace existing record with new one\n",
    "        \"\"\"\n",
    "        filter: {\"field\": \"value\"}\n",
    "        replacement: {\"name\": name, \"link\": link}\n",
    "        \"\"\"\n",
    "        try:\n",
    "            self.db.URLs.replace_one(sort, replacement)\n",
    "            return True\n",
    "        except Exception as e:\n",
    "            raise Exception(\"Unable to edit document due to the following error: \", e)\n",
    "    \n",
    "    def filter(self, field: str): # Filter database by existence of field\n",
    "        try:\n",
    "            results = self.db.URLs.find({\n",
    "                f\"{field}\": {\"$exists\": True}\n",
    "                })\n",
    "            return results\n",
    "        except Exception as e:\n",
    "            raise Exception(\"Unable to filter database due to the following error: \", e)"
   ]
  },
  {
   "cell_type": "code",
   "execution_count": 5,
   "id": "11235b31",
   "metadata": {},
   "outputs": [
    {
     "name": "stdout",
     "output_type": "stream",
     "text": [
      "Pinged your deployment. You successfully connected to MongoDB!\n",
      "MongoDB Connection closed\n"
     ]
    }
   ],
   "source": [
    "db = MongoDB()\n",
    "filtered = db.filter(\"experience\")\n",
    "\n",
    "for point in filtered:\n",
    "    print(point)\n",
    "\n",
    "\n",
    "db.close()"
   ]
  },
  {
   "cell_type": "markdown",
   "id": "1039a0ae",
   "metadata": {},
   "source": [
    "# Playground"
   ]
  },
  {
   "cell_type": "code",
   "execution_count": 6,
   "id": "18c4b0e3",
   "metadata": {},
   "outputs": [
    {
     "name": "stdout",
     "output_type": "stream",
     "text": [
      "Pinged your deployment. You successfully connected to MongoDB!\n",
      "{'_id': ObjectId('6897907bf8d4312bfa216ccf'), 'name': 'Zain Nomani', 'link': 'https://www.linkedin.com/in/zain-n-112a361a8/'}\n"
     ]
    }
   ],
   "source": [
    "client = MongoDB()\n",
    "record = client.search(\"name\", \"Zain Nomani\")\n",
    "print(record)"
   ]
  },
  {
   "cell_type": "code",
   "execution_count": 7,
   "id": "322aa334",
   "metadata": {},
   "outputs": [
    {
     "data": {
      "text/plain": [
       "True"
      ]
     },
     "execution_count": 7,
     "metadata": {},
     "output_type": "execute_result"
    }
   ],
   "source": [
    "client.add({\n",
    "    \"name\": \"Jeremy Clarkson\",\n",
    "    \"link\": \"POWERRRRR\"\n",
    "    })\n"
   ]
  },
  {
   "cell_type": "code",
   "execution_count": 9,
   "id": "aa7e98a9",
   "metadata": {},
   "outputs": [
    {
     "data": {
      "text/plain": [
       "True"
      ]
     },
     "execution_count": 9,
     "metadata": {},
     "output_type": "execute_result"
    }
   ],
   "source": [
    "client.edit({\"name\": \"Jeremy Clarkson\"}, replacement = {\"name\": \"Jeremy Clarkson\", \"link\": \"https://www.linkedin.com/in/orangutan/\"})"
   ]
  },
  {
   "cell_type": "code",
   "execution_count": 7,
   "id": "3dc2bc19",
   "metadata": {},
   "outputs": [
    {
     "name": "stdout",
     "output_type": "stream",
     "text": [
      "Pinged your deployment. You successfully connected to MongoDB!\n"
     ]
    }
   ],
   "source": [
    "load_dotenv()\n",
    "uri = os.getenv(\"MONGODBURI\")\n",
    "uri = uri\n",
    "# Create a new client and connect to the server\n",
    "client = MongoClient(uri, server_api=ServerApi('1'))\n",
    "\n",
    "# Send a ping to confirm a successful connection\n",
    "try:\n",
    "    client.admin.command('ping')\n",
    "    print(\"Pinged your deployment. You successfully connected to MongoDB!\")\n",
    "    client = MongoClient(uri)\n",
    "except Exception as e:\n",
    "    print(e)"
   ]
  },
  {
   "cell_type": "code",
   "execution_count": 12,
   "id": "edc94f89",
   "metadata": {},
   "outputs": [
    {
     "name": "stdout",
     "output_type": "stream",
     "text": [
      "{'_id': ObjectId('6897907bf8d4312bfa216ccf'), 'name': 'Zain Nomani', 'link': 'https://www.linkedin.com/in/zain-n-112a361a8/'}\n",
      "{'_id': ObjectId('689796cd8df42e987bec26f4'), 'name': 'Tim Campbell', 'link': 'https://www.linkedin.com/in/timcampbellmbe/'}\n",
      "{'_id': ObjectId('6897973c8df42e987bec26f6'), 'name': 'Richard Branson', 'link': 'https://www.linkedin.com/in/rbranson/'}\n",
      "{'_id': ObjectId('68979cdfea840bef038dc64c'), 'name': 'Jeremy Clarkson', 'link': 'https://www.linkedin.com/in/orangutan/'}\n"
     ]
    }
   ],
   "source": [
    "db = client.get_database(\"Contacts\")\n",
    "results = db.URLs.find({\"name\": {\"$exists\": True}})\n",
    "\n",
    "for result in results:\n",
    "    print(result)"
   ]
  }
 ],
 "metadata": {
  "kernelspec": {
   "display_name": "Python 3",
   "language": "python",
   "name": "python3"
  },
  "language_info": {
   "codemirror_mode": {
    "name": "ipython",
    "version": 3
   },
   "file_extension": ".py",
   "mimetype": "text/x-python",
   "name": "python",
   "nbconvert_exporter": "python",
   "pygments_lexer": "ipython3",
   "version": "3.12.1"
  }
 },
 "nbformat": 4,
 "nbformat_minor": 5
}
