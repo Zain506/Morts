{
 "cells": [
  {
   "cell_type": "markdown",
   "id": "8d67f4c3",
   "metadata": {},
   "source": [
    "## Query and edit Database"
   ]
  },
  {
   "cell_type": "code",
   "execution_count": 6,
   "id": "83cd3646",
   "metadata": {},
   "outputs": [
    {
     "name": "stdout",
     "output_type": "stream",
     "text": [
      "Pinged your deployment. You successfully connected to MongoDB!\n"
     ]
    }
   ],
   "source": [
    "import os\n",
    "from dotenv import load_dotenv\n",
    "from pymongo.mongo_client import MongoClient\n",
    "from pymongo.server_api import ServerApi\n",
    "\n",
    "load_dotenv()\n",
    "uri = os.getenv(\"MONGODBURI\")\n",
    "\n",
    "# Create a new client and connect to the server\n",
    "client = MongoClient(uri, server_api=ServerApi('1'))\n",
    "\n",
    "# Send a ping to confirm a successful connection\n",
    "try:\n",
    "    client.admin.command('ping')\n",
    "    print(\"Pinged your deployment. You successfully connected to MongoDB!\")\n",
    "except Exception as e:\n",
    "    print(e)"
   ]
  },
  {
   "cell_type": "code",
   "execution_count": 17,
   "id": "3ba3c2cf",
   "metadata": {},
   "outputs": [
    {
     "name": "stdout",
     "output_type": "stream",
     "text": [
      "{'_id': ObjectId('6897907bf8d4312bfa216ccf'), 'name': 'Zain Nomani', 'age': '21'}\n"
     ]
    }
   ],
   "source": [
    "from pymongo import MongoClient\n",
    "import os\n",
    "from dotenv import load_dotenv\n",
    "import json\n",
    "\n",
    "load_dotenv()\n",
    "uri = os.getenv(\"MONGODBURI\")\n",
    "client = MongoClient(uri)\n",
    "\n",
    "try:\n",
    "    database = client.get_database(\"Contacts\")\n",
    "    movies = database.get_collection(\"URLs\")\n",
    "\n",
    "    # Query for a movie that has the title 'Back to the Future'\n",
    "    query = { \"name\": \"Zain Nomani\" }\n",
    "    movie = movies.find_one(query)\n",
    "    \n",
    "    print(movie)\n",
    "\n",
    "    client.close()\n",
    "\n",
    "except Exception as e:\n",
    "    raise Exception(\"Unable to find the document due to the following error: \", e)\n"
   ]
  }
 ],
 "metadata": {
  "kernelspec": {
   "display_name": "Python 3",
   "language": "python",
   "name": "python3"
  },
  "language_info": {
   "codemirror_mode": {
    "name": "ipython",
    "version": 3
   },
   "file_extension": ".py",
   "mimetype": "text/x-python",
   "name": "python",
   "nbconvert_exporter": "python",
   "pygments_lexer": "ipython3",
   "version": "3.12.1"
  }
 },
 "nbformat": 4,
 "nbformat_minor": 5
}
