{
 "cells": [
  {
   "cell_type": "markdown",
   "metadata": {},
   "source": [
    "# Google API and scrape"
   ]
  },
  {
   "cell_type": "code",
   "execution_count": 2,
   "metadata": {},
   "outputs": [],
   "source": [
    "import sys\n",
    "import os\n",
    "sys.path.append(os.path.abspath(os.path.join(os.getcwd(), '..')))\n",
    "\n",
    "# Import all methods from all files in src\n",
    "from src.google import *"
   ]
  },
  {
   "cell_type": "code",
   "execution_count": 3,
   "metadata": {},
   "outputs": [],
   "source": [
    "result = Google(\"Barrister London 15 years site:linkedin.com/in\").run(20)"
   ]
  },
  {
   "cell_type": "code",
   "execution_count": 4,
   "metadata": {},
   "outputs": [
    {
     "name": "stdout",
     "output_type": "stream",
     "text": [
      "Search:  Barrister London 15 years site:linkedin.com/in\n",
      "URL Queried:  https://www.google.com/search?q=Barrister+London+15+years+site%3Alinkedin.com%2Fin&num=20\n",
      "Status Code:  200\n",
      "URLs scraped:  [['https://uk.linkedin.com/in/denece-crane-00339a30'], ['https://uk.linkedin.com/in/dan-hobbs-5339439'], ['https://uk.linkedin.com/in/sam-nicholls-24765187'], ['https://uk.linkedin.com/in/nabila-mallick-671a2b7'], ['https://uk.linkedin.com/in/mark-harrop-family-law'], ['https://uk.linkedin.com/in/william-england-1a06a45'], ['https://uk.linkedin.com/in/klentiana-mahmutaj-a1339722'], ['https://uk.linkedin.com/in/greg-krieger-86440819'], ['https://uk.linkedin.com/in/seanwjones'], ['https://uk.linkedin.com/in/jhldewaal'], ['https://uk.linkedin.com/in/graeme-kirk-18969618'], ['https://uk.linkedin.com/in/susan-p-webb-llb-hons-ba-hons-26687143'], ['https://uk.linkedin.com/in/georginablower'], ['https://uk.linkedin.com/in/jonathonrushton'], ['https://uk.linkedin.com/in/harriet-brown-62984a31'], ['https://uk.linkedin.com/in/nicholas-leah-22035297'], ['https://uk.linkedin.com/in/clare-dowse-006a4637'], ['https://uk.linkedin.com/in/cicely-hayward-3b753844'], ['https://uk.linkedin.com/in/simonjohnharding'], ['https://uk.linkedin.com/in/james-martin-9b517b29']]\n"
     ]
    }
   ],
   "source": [
    "result.summarise()"
   ]
  },
  {
   "cell_type": "code",
   "execution_count": null,
   "metadata": {},
   "outputs": [],
   "source": [
    "for point in result.links:\n",
    "    print(point)"
   ]
  }
 ],
 "metadata": {
  "kernelspec": {
   "display_name": ".venv",
   "language": "python",
   "name": "python3"
  },
  "language_info": {
   "codemirror_mode": {
    "name": "ipython",
    "version": 3
   },
   "file_extension": ".py",
   "mimetype": "text/x-python",
   "name": "python",
   "nbconvert_exporter": "python",
   "pygments_lexer": "ipython3",
   "version": "3.12.6"
  }
 },
 "nbformat": 4,
 "nbformat_minor": 2
}
