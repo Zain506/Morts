{
 "cells": [
  {
   "cell_type": "markdown",
   "id": "0556514f",
   "metadata": {},
   "source": [
    "# Machine Learning Classification\n",
    "- Find records without a \"classification\" field to reduce latency\n",
    "- Apply classifier to them\n",
    "- Update these records"
   ]
  }
 ],
 "metadata": {
  "language_info": {
   "name": "python"
  }
 },
 "nbformat": 4,
 "nbformat_minor": 5
}
