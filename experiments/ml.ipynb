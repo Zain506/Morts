{
 "cells": [
  {
   "cell_type": "markdown",
   "id": "0556514f",
   "metadata": {},
   "source": [
    "# Machine Learning Classification\n",
    "- Supply a dataframe to the class\n",
    "- Generate embeddings for each one using preloaded model\n",
    "- Save to Dataframe temporarily\n",
    "- Generate embeddings for 2 sample profiles\n",
    "- Softmaxxed cosine similarity to classify as probabilities\n",
    "- Assign \"model\" prediction and automatically \"actual\" is equal to it\n",
    "- Push to Database"
   ]
  },
  {
   "cell_type": "code",
   "execution_count": 1,
   "id": "66f01af6",
   "metadata": {},
   "outputs": [],
   "source": [
    "# Generate example data in pd.DataFrame() format\n",
    "import pandas as pd\n",
    "df = pd.DataFrame(\n",
    "    [\n",
    "        {\"name\": \"Zain\", \"link\": \"zain.com\", \"headline\": \"Zain's headline\", \"location\": \"London\"},\n",
    "        {\"name\": \"Tim\", \"link\": \"tim.com\", \"headline\": \"Apprentice winner\", \"location\": \"London\"},\n",
    "        {\"name\": \"Jude Samuel\", \"link\": \"ingloriousgrapplers.com\", \"headline\": \"Head coach\", \"location\": \"London\"}\n",
    "    ]\n",
    ")"
   ]
  },
  {
   "cell_type": "code",
   "execution_count": 2,
   "id": "bd323a1e",
   "metadata": {},
   "outputs": [
    {
     "name": "stderr",
     "output_type": "stream",
     "text": [
      "/usr/local/python/3.12.1/lib/python3.12/site-packages/tqdm/auto.py:21: TqdmWarning: IProgress not found. Please update jupyter and ipywidgets. See https://ipywidgets.readthedocs.io/en/stable/user_install.html\n",
      "  from .autonotebook import tqdm as notebook_tqdm\n"
     ]
    }
   ],
   "source": [
    "# Use Sentence Transformers for Feature Extraction: \n",
    "from sentence_transformers import SentenceTransformer\n",
    "\n",
    "# Load a model specifically trained for sentence embeddings\n",
    "model = SentenceTransformer(\"distilbert-base-nli-stsb-mean-tokens\")\n"
   ]
  },
  {
   "cell_type": "code",
   "execution_count": 3,
   "id": "e4c924d9",
   "metadata": {},
   "outputs": [
    {
     "data": {
      "text/plain": [
       "(3, 768)"
      ]
     },
     "execution_count": 3,
     "metadata": {},
     "output_type": "execute_result"
    }
   ],
   "source": [
    "\n",
    "combined_series = pd.Series([\n",
    "            f\"name: {name}, about: {about}, location:{location}\"\n",
    "            for name, about, location in df[['name', 'headline', 'location']].values\n",
    "        ])\n",
    "tmp = model.encode(combined_series)\n",
    "tmp.shape"
   ]
  },
  {
   "cell_type": "code",
   "execution_count": null,
   "id": "9b68ba5f",
   "metadata": {},
   "outputs": [],
   "source": [
    "import pandas as pd\n",
    "from sentence_transformers import SentenceTransformer\n",
    "import numpy as np\n",
    "# Load a model specifically trained for sentence embeddings\n",
    "\n",
    "class Model:\n",
    "    \"\"\"\n",
    "    Initialise model then generate embeddings for each record in a dataframe\n",
    "    \"\"\"\n",
    "    def __init__(self):\n",
    "        self.model = SentenceTransformer(\"distilbert-base-nli-stsb-mean-tokens\")\n",
    "        \n",
    "\n",
    "    def _genEmbeddings(self, text: pd.Series) -> np.ndarray:\n",
    "        # Refactor the dataframe into an array of strings then feed self.model.encode(array_of_strings)\n",
    "        return self.model.encode(text)\n",
    "\n",
    "    def _getProf(self) -> np.ndarray:\n",
    "        # Provie 2 example profiles, generate embeddings and store in array\n",
    "        # Used to dot product and find cosine similarity with other data points\n",
    "        pass\n",
    "\n",
    "    def _calcSim(self, embeddings: np.ndarray) -> np.ndarray:\n",
    "        # Apply dot product to cosine similarity then softmax with 2 other pre-calculated embeddings\n",
    "        pass\n",
    "    def _classify(self, arr: np.ndarray):\n",
    "        # arr should be have 2 columns. Convert into true or false\n",
    "        pass\n",
    "    def _construct(self, df: pd.DataFrame, arr: np.ndarray):\n",
    "        # add arr to pandas dataframe\n",
    "        pass"
   ]
  }
 ],
 "metadata": {
  "kernelspec": {
   "display_name": "Python 3",
   "language": "python",
   "name": "python3"
  },
  "language_info": {
   "codemirror_mode": {
    "name": "ipython",
    "version": 3
   },
   "file_extension": ".py",
   "mimetype": "text/x-python",
   "name": "python",
   "nbconvert_exporter": "python",
   "pygments_lexer": "ipython3",
   "version": "3.12.1"
  }
 },
 "nbformat": 4,
 "nbformat_minor": 5
}
