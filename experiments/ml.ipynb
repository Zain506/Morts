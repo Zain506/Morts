{
 "cells": [
  {
   "cell_type": "markdown",
   "id": "0556514f",
   "metadata": {},
   "source": [
    "# Machine Learning Classification\n",
    "- Supply a dataframe to the class\n",
    "- Generate embeddings for each one using preloaded model\n",
    "- Save to Dataframe temporarily\n",
    "- Generate embeddings for 2 sample profiles\n",
    "- Softmaxxed cosine similarity to classify as probabilities\n",
    "- Assign \"model\" prediction and automatically \"actual\" is equal to it\n",
    "- Push to Database"
   ]
  }
 ],
 "metadata": {
  "language_info": {
   "name": "python"
  }
 },
 "nbformat": 4,
 "nbformat_minor": 5
}
