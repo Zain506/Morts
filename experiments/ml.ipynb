{
 "cells": [
  {
   "cell_type": "markdown",
   "id": "0556514f",
   "metadata": {},
   "source": [
    "# Machine Learning Classification\n",
    "- Perform Cosine similarity on each input data point\n",
    "- Compare to sample profiles to classify into various classes\n",
    "- Can expand to more than 1"
   ]
  },
  {
   "cell_type": "code",
   "execution_count": 12,
   "id": "66f01af6",
   "metadata": {},
   "outputs": [],
   "source": [
    "# Generate example data in pd.DataFrame() format\n",
    "import pandas as pd\n",
    "df = pd.DataFrame(\n",
    "    [\n",
    "        {\"name\": \"Zain\", \"link\": \"zain.com\", \"headline\": \"AI student at UCL\", \"location\": \"London\"},\n",
    "        {\"name\": \"Tim\", \"link\": \"tim.com\", \"headline\": \"CEO of AMSTRAD\", \"location\": \"London\"},\n",
    "        {\"name\": \"Jude Samuel\", \"link\": \"ingloriousgrapplers.com\", \"headline\": \"Head Coach at Inglorious Grapplers | Matchmaker at Bellator\", \"location\": \"London\"}\n",
    "    ]\n",
    ")"
   ]
  },
  {
   "cell_type": "code",
   "execution_count": 2,
   "id": "bd323a1e",
   "metadata": {},
   "outputs": [
    {
     "name": "stderr",
     "output_type": "stream",
     "text": [
      "/usr/local/python/3.12.1/lib/python3.12/site-packages/tqdm/auto.py:21: TqdmWarning: IProgress not found. Please update jupyter and ipywidgets. See https://ipywidgets.readthedocs.io/en/stable/user_install.html\n",
      "  from .autonotebook import tqdm as notebook_tqdm\n"
     ]
    }
   ],
   "source": [
    "# Use Sentence Transformers for Feature Extraction: \n",
    "from sentence_transformers import SentenceTransformer\n",
    "\n",
    "# Load a model specifically trained for sentence embeddings\n",
    "model = SentenceTransformer(\"distilbert-base-nli-stsb-mean-tokens\")\n"
   ]
  },
  {
   "cell_type": "code",
   "execution_count": 15,
   "id": "0a4e74a9",
   "metadata": {},
   "outputs": [
    {
     "name": "stdout",
     "output_type": "stream",
     "text": [
      "(2, 768)\n",
      "(3, 768)\n",
      "[[0.506789   0.49321103]\n",
      " [0.55170304 0.4482969 ]\n",
      " [0.5217679  0.4782321 ]]\n"
     ]
    }
   ],
   "source": [
    "import numpy as np\n",
    "\n",
    "true: str = \"\"\"\n",
    "Name: Julian Cross\n",
    "Location: London, UK\n",
    "Headline: London-based C-Level Executive | Driving Operational Excellence & Strategic Growth | Helping Businesses scale with purpose\n",
    "\"\"\"\n",
    "false: str = \"\"\"\n",
    "Name: Chloe Wilson\n",
    "Location: California, USA\n",
    "Headline: Gender Studies student at Santa Monica College | Focussed on social justice advocacy and community organising | Pet lover\n",
    "\"\"\"\n",
    "comp: np.ndarray = np.array([model.encode(true), model.encode(false)])\n",
    "print(comp.shape)\n",
    "print(tmp.shape)\n",
    "\n",
    "dot = np.dot(tmp, comp.T)\n",
    "abs = np.dot(np.linalg.norm(tmp, axis=1, keepdims=True), np.linalg.norm(comp, axis=1, keepdims=True).T)\n",
    "sim = dot / abs\n",
    "exp = np.exp(sim)\n",
    "sum = np.sum(exp, axis=1, keepdims=True)\n",
    "prob = exp / sum\n",
    "print(prob)"
   ]
  },
  {
   "cell_type": "code",
   "execution_count": 1,
   "id": "9b68ba5f",
   "metadata": {},
   "outputs": [
    {
     "name": "stderr",
     "output_type": "stream",
     "text": [
      "/usr/local/python/3.12.1/lib/python3.12/site-packages/tqdm/auto.py:21: TqdmWarning: IProgress not found. Please update jupyter and ipywidgets. See https://ipywidgets.readthedocs.io/en/stable/user_install.html\n",
      "  from .autonotebook import tqdm as notebook_tqdm\n"
     ]
    }
   ],
   "source": [
    "import pandas as pd\n",
    "from sentence_transformers import SentenceTransformer\n",
    "import numpy as np\n",
    "# Load a model specifically trained for sentence embeddings\n",
    "\n",
    "class Model:\n",
    "    \"\"\"\n",
    "    Require a pandas series of texts and outputs the \n",
    "    \"\"\"\n",
    "    def __init__(self):\n",
    "        self.model = SentenceTransformer(\"distilbert-base-nli-stsb-mean-tokens\")\n",
    "        self.samples = None\n",
    "    \n",
    "    def run(self, text: pd.Series) -> pd.Series:\n",
    "        \"\"\"Run start to finish from a series of texts to a series of true or false\"\"\"\n",
    "        embeddings = self._genEmbeddings(text)\n",
    "        self._getProf()\n",
    "        similarity = self._calcSim(embeddings)\n",
    "        classes = self._classify(similarity)\n",
    "        return self._construct(classes)\n",
    "\n",
    "\n",
    "    def _genEmbeddings(self, text: pd.Series) -> np.ndarray:\n",
    "        # Refactor the dataframe into an array of strings then feed self.model.encode(array_of_strings)\n",
    "        return self.model.encode(text)\n",
    "\n",
    "    def _getProf(self) -> np.ndarray:\n",
    "        # Provie 2 example profiles, generate embeddings and store in array\n",
    "        # Used to dot product and find cosine similarity with other data points\n",
    "        true: str = \"\"\"\n",
    "Name: Julian Cross\n",
    "Location: London, UK\n",
    "Headline: London-based C-Level Executive | Driving Operational Excellence & Strategic Growth | Helping Businesses scale with purpose\n",
    "\"\"\"\n",
    "        false: str = \"\"\"\n",
    "Name: Chloe Wilson\n",
    "Location: California, USA\n",
    "Headline: Gender Studies student at Santa Monica College | Focussed on social justice advocacy and community organising | Pet lover\n",
    "\"\"\"\n",
    "        comp: np.ndarray = np.array([self.model.encode(true), self.model.encode(false)])\n",
    "        self.samples = comp\n",
    "        return comp\n",
    "\n",
    "    def _calcSim(self, embeddings: np.ndarray) -> np.ndarray:\n",
    "        # Apply dot product to cosine similarity then softmax with 2 other pre-calculated embeddings\n",
    "\n",
    "        dot = np.dot(embeddings, self.samples.T)\n",
    "        abs = np.dot(np.linalg.norm(embeddings, axis=1, keepdims=True), np.linalg.norm(self.samples, axis=1, keepdims=True).T)\n",
    "        sim = dot / abs\n",
    "        exp = np.exp(sim)\n",
    "        sum = np.sum(exp, axis=1, keepdims=True)\n",
    "        prob = exp / sum\n",
    "        return prob\n",
    "    \n",
    "    def _classify(self, arr: np.ndarray):\n",
    "        # arr should be have 2 columns. Convert into true or false\n",
    "        return arr[:, 0] >= arr[:, 1]\n",
    "\n",
    "    def _construct(self, arr: np.ndarray):\n",
    "        # Create Pandas series of True or False\n",
    "        return pd.Series(arr)"
   ]
  },
  {
   "cell_type": "code",
   "execution_count": 2,
   "id": "4bc54857",
   "metadata": {},
   "outputs": [],
   "source": [
    "import pandas as pd\n",
    "df = pd.Series(\n",
    "    [\n",
    "        \"\"\"\n",
    "        name: Zain, \n",
    "        location: London, UK, \n",
    "        headline: AI student at UCL, location: London\n",
    "        \"\"\",\n",
    "        \"\"\"\n",
    "        name: Tim, \n",
    "        location: London, UK, \n",
    "        headline: CEO of AMSTRAD\n",
    "        \"\"\",\n",
    "        \"\"\"\n",
    "        name: Jude Samuel, \n",
    "        location: London, UK, \n",
    "        headline: Head Coach at Inglorious Grapplers | Matchmaker at Bellator\n",
    "        \"\"\",\n",
    "    ]\n",
    ")"
   ]
  },
  {
   "cell_type": "code",
   "execution_count": 3,
   "id": "6a036e20",
   "metadata": {},
   "outputs": [
    {
     "name": "stdout",
     "output_type": "stream",
     "text": [
      "0    True\n",
      "1    True\n",
      "2    True\n",
      "dtype: bool\n"
     ]
    }
   ],
   "source": [
    "client = Model()\n",
    "out = client.run(df)\n",
    "print(out)"
   ]
  },
  {
   "cell_type": "code",
   "execution_count": 4,
   "id": "aa0c7dea",
   "metadata": {},
   "outputs": [
    {
     "name": "stdout",
     "output_type": "stream",
     "text": [
      "<class 'pandas.core.series.Series'>\n"
     ]
    }
   ],
   "source": [
    "print(type(out))"
   ]
  }
 ],
 "metadata": {
  "kernelspec": {
   "display_name": "Python 3",
   "language": "python",
   "name": "python3"
  },
  "language_info": {
   "codemirror_mode": {
    "name": "ipython",
    "version": 3
   },
   "file_extension": ".py",
   "mimetype": "text/x-python",
   "name": "python",
   "nbconvert_exporter": "python",
   "pygments_lexer": "ipython3",
   "version": "3.12.1"
  }
 },
 "nbformat": 4,
 "nbformat_minor": 5
}
